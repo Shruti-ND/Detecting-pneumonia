{
  "nbformat": 4,
  "nbformat_minor": 0,
  "metadata": {
    "colab": {
      "name": "Pneumonia-Detection.ipynb",
      "provenance": [],
      "private_outputs": true,
      "collapsed_sections": []
    },
    "kernelspec": {
      "name": "python3",
      "display_name": "Python 3"
    },
    "accelerator": "GPU"
  },
  "cells": [
    {
      "cell_type": "markdown",
      "metadata": {
        "id": "_krcI_yzLp8J",
        "colab_type": "text"
      },
      "source": [
        "# Import libraries"
      ]
    },
    {
      "cell_type": "code",
      "metadata": {
        "id": "2LH3Pk_aGB2P",
        "colab_type": "code",
        "colab": {}
      },
      "source": [
        "from tensorflow.keras.applications.resnet_v2 import ResNet50V2\n",
        "from tensorflow import keras\n",
        "from tensorflow.python.platform import gfile\n",
        "from PIL import Image\n",
        "from tensorflow.keras.applications.resnet_v2 import preprocess_input"
      ],
      "execution_count": null,
      "outputs": []
    },
    {
      "cell_type": "code",
      "metadata": {
        "id": "xmN4ZiBkGc5-",
        "colab_type": "code",
        "colab": {}
      },
      "source": [
        "from tensorflow.keras.preprocessing import image\n",
        "from tensorflow.keras.preprocessing.image import ImageDataGenerator\n",
        "from tensorflow.keras.layers import Input, Lambda, Dense, Flatten\n",
        "from tensorflow.keras.models import Sequential,Model\n",
        "import tensorflow as tf\n",
        "from tensorflow.keras import backend as K\n",
        "import numpy as np\n",
        "from glob import glob"
      ],
      "execution_count": null,
      "outputs": []
    },
    {
      "cell_type": "markdown",
      "metadata": {
        "id": "WQvmAosRMGLU",
        "colab_type": "text"
      },
      "source": [
        "# Getting the dataset"
      ]
    },
    {
      "cell_type": "code",
      "metadata": {
        "id": "4JUUZWTAGc9N",
        "colab_type": "code",
        "colab": {}
      },
      "source": [
        "from google.colab import drive\n",
        "drive.mount('/content/drive')"
      ],
      "execution_count": null,
      "outputs": []
    },
    {
      "cell_type": "code",
      "metadata": {
        "id": "sxwpS2LAGc_2",
        "colab_type": "code",
        "colab": {}
      },
      "source": [
        "import zipfile\n",
        "with zipfile.ZipFile('/content/drive/My Drive/Colab Notebooks/chest_xray.zip','r')as zip_ref:\n",
        "  zip_ref.extractall('')"
      ],
      "execution_count": null,
      "outputs": []
    },
    {
      "cell_type": "code",
      "metadata": {
        "id": "reWb-2CNwFK5",
        "colab_type": "code",
        "colab": {}
      },
      "source": [
        ""
      ],
      "execution_count": null,
      "outputs": []
    },
    {
      "cell_type": "code",
      "metadata": {
        "id": "rfeR2jcnGrz1",
        "colab_type": "code",
        "colab": {}
      },
      "source": [
        "import os\n",
        "os.listdir()"
      ],
      "execution_count": null,
      "outputs": []
    },
    {
      "cell_type": "markdown",
      "metadata": {
        "id": "QW-Rn9ZDMW_7",
        "colab_type": "text"
      },
      "source": [
        "#Checking out the images and the data"
      ]
    },
    {
      "cell_type": "code",
      "metadata": {
        "id": "qnkPvquQMaEY",
        "colab_type": "code",
        "colab": {}
      },
      "source": [
        "import matplotlib.pyplot as plt\n",
        "import matplotlib.image as mpimg"
      ],
      "execution_count": null,
      "outputs": []
    },
    {
      "cell_type": "code",
      "metadata": {
        "id": "cYQ2mZemGr8H",
        "colab_type": "code",
        "colab": {}
      },
      "source": [
        "IMAGE_SIZE = [224, 224]\n",
        "#test_path = 'chest_xray/test'\n",
        "train_path = 'chest_xray/train'\n",
        "valid_path = 'chest_xray/test'"
      ],
      "execution_count": null,
      "outputs": []
    },
    {
      "cell_type": "code",
      "metadata": {
        "id": "6dNEvxXXGr5c",
        "colab_type": "code",
        "colab": {}
      },
      "source": [
        "res = ResNet50V2(input_shape=IMAGE_SIZE + [3], weights='imagenet', include_top=False)"
      ],
      "execution_count": null,
      "outputs": []
    },
    {
      "cell_type": "code",
      "metadata": {
        "id": "HLrCiVR5Gr26",
        "colab_type": "code",
        "colab": {}
      },
      "source": [
        "\n",
        "for layer in res.layers[-10:]:\n",
        "  layer.trainable = False"
      ],
      "execution_count": null,
      "outputs": []
    },
    {
      "cell_type": "code",
      "metadata": {
        "id": "t4a83vHCG5C1",
        "colab_type": "code",
        "colab": {}
      },
      "source": [
        "folders = glob('/content/chest_xray/train/*')"
      ],
      "execution_count": null,
      "outputs": []
    },
    {
      "cell_type": "code",
      "metadata": {
        "id": "-aSmyYGPG5Fy",
        "colab_type": "code",
        "colab": {}
      },
      "source": [
        "x = Flatten()(res.output)\n",
        "# x = Dense(1000, activation='relu')(x)\n",
        "prediction = Dense(len(folders), activation='softmax')(x)"
      ],
      "execution_count": null,
      "outputs": []
    },
    {
      "cell_type": "code",
      "metadata": {
        "id": "V1H0bbigG5If",
        "colab_type": "code",
        "colab": {}
      },
      "source": [
        "model = Model(inputs=res.input, outputs=prediction)"
      ],
      "execution_count": null,
      "outputs": []
    },
    {
      "cell_type": "code",
      "metadata": {
        "id": "YLjHytnFG5Oi",
        "colab_type": "code",
        "colab": {}
      },
      "source": [
        "model.summary()"
      ],
      "execution_count": null,
      "outputs": []
    },
    {
      "cell_type": "markdown",
      "metadata": {
        "id": "Eun9byqlNwy-",
        "colab_type": "text"
      },
      "source": [
        "# Training the model"
      ]
    },
    {
      "cell_type": "code",
      "metadata": {
        "id": "wzeZPCGWHPKT",
        "colab_type": "code",
        "colab": {}
      },
      "source": [
        "batch_size=16"
      ],
      "execution_count": null,
      "outputs": []
    },
    {
      "cell_type": "code",
      "metadata": {
        "id": "Ps-zUeyPHPNb",
        "colab_type": "code",
        "colab": {}
      },
      "source": [
        "train_datagen = ImageDataGenerator(rescale = 1./255,\n",
        "                                  shear_range = 0.2,\n",
        "                                   zoom_range = 0.2,\n",
        "                                  horizontal_flip = True)\n",
        "\n",
        "test_datagen = ImageDataGenerator(rescale = 1./255)\n",
        "\n",
        "training_set = train_datagen.flow_from_directory('/content/chest_xray/train',\n",
        "                                                 target_size = (224, 224),\n",
        "                                                 batch_size = batch_size,\n",
        "                                                 class_mode = 'categorical')\n",
        "\n",
        "test_set = test_datagen.flow_from_directory('/content/chest_xray/test',\n",
        "                                            target_size = (224, 224),\n",
        "                                            batch_size = batch_size,\n",
        "                                            class_mode = 'categorical')"
      ],
      "execution_count": null,
      "outputs": []
    },
    {
      "cell_type": "code",
      "metadata": {
        "id": "1ZnycnarG5TA",
        "colab_type": "code",
        "colab": {}
      },
      "source": [
        "model.compile(\n",
        "  loss='categorical_crossentropy',\n",
        "  optimizer='adam',\n",
        "  metrics=['accuracy']\n",
        ")"
      ],
      "execution_count": null,
      "outputs": []
    },
    {
      "cell_type": "code",
      "metadata": {
        "id": "itQ268-5HPSq",
        "colab_type": "code",
        "colab": {}
      },
      "source": [
        "%%time\n",
        "r = model.fit_generator(\n",
        "  training_set,\n",
        "  validation_data=test_set,\n",
        "  epochs=4,\n",
        "  steps_per_epoch=20,\n",
        "  validation_steps=len(test_set)\n",
        ")"
      ],
      "execution_count": null,
      "outputs": []
    },
    {
      "cell_type": "code",
      "metadata": {
        "id": "5rXhI35nsjnu",
        "colab_type": "code",
        "colab": {}
      },
      "source": [
        "result  = model.evaluate_generator(test_set, steps=len(test_set), verbose=1)\n",
        "print('Loss:', result[0])\n",
        "print('Accuracy:', result[1])"
      ],
      "execution_count": null,
      "outputs": []
    },
    {
      "cell_type": "markdown",
      "metadata": {
        "id": "gyS2O8K2N-qU",
        "colab_type": "text"
      },
      "source": [
        "# Evaluation of the model"
      ]
    },
    {
      "cell_type": "markdown",
      "metadata": {
        "id": "MTRcXo1WJlmX",
        "colab_type": "text"
      },
      "source": [
        "**Model saving and loading**"
      ]
    },
    {
      "cell_type": "code",
      "metadata": {
        "id": "tWhfjHV7HbRi",
        "colab_type": "code",
        "colab": {}
      },
      "source": [
        "model.save('/content/Pneumonia-Detection.h5')"
      ],
      "execution_count": null,
      "outputs": []
    },
    {
      "cell_type": "code",
      "metadata": {
        "id": "02sDts4oHbOb",
        "colab_type": "code",
        "colab": {}
      },
      "source": [
        "new_model = keras.models.load_model('Pneumonia-Detection.h5')"
      ],
      "execution_count": null,
      "outputs": []
    },
    {
      "cell_type": "code",
      "metadata": {
        "id": "bVU-bMs_6DJx",
        "colab_type": "code",
        "colab": {}
      },
      "source": [
        ""
      ],
      "execution_count": null,
      "outputs": []
    }
  ]
}